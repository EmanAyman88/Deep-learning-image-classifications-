{
 "cells": [
  {
   "cell_type": "code",
   "execution_count": 1,
   "id": "7d8bb741",
   "metadata": {
    "_kg_hide-output": true,
    "execution": {
     "iopub.execute_input": "2023-11-16T14:07:56.296047Z",
     "iopub.status.busy": "2023-11-16T14:07:56.295281Z",
     "iopub.status.idle": "2023-11-16T14:08:54.453219Z",
     "shell.execute_reply": "2023-11-16T14:08:54.452302Z"
    },
    "papermill": {
     "duration": 58.166922,
     "end_time": "2023-11-16T14:08:54.455507",
     "exception": false,
     "start_time": "2023-11-16T14:07:56.288585",
     "status": "completed"
    },
    "tags": []
   },
   "outputs": [
    {
     "name": "stdout",
     "output_type": "stream",
     "text": [
      "Collecting tensorflow==2.9.1\r\n",
      "  Downloading tensorflow-2.9.1-cp310-cp310-manylinux_2_17_x86_64.manylinux2014_x86_64.whl (511.7 MB)\r\n",
      "\u001b[2K     \u001b[90m━━━━━━━━━━━━━━━━━━━━━━━━━━━━━━━━━━━━━━━\u001b[0m \u001b[32m511.7/511.7 MB\u001b[0m \u001b[31m2.6 MB/s\u001b[0m eta \u001b[36m0:00:00\u001b[0m\r\n",
      "\u001b[?25hRequirement already satisfied: absl-py>=1.0.0 in /opt/conda/lib/python3.10/site-packages (from tensorflow==2.9.1) (1.4.0)\r\n",
      "Requirement already satisfied: astunparse>=1.6.0 in /opt/conda/lib/python3.10/site-packages (from tensorflow==2.9.1) (1.6.3)\r\n",
      "Collecting flatbuffers<2,>=1.12 (from tensorflow==2.9.1)\r\n",
      "  Downloading flatbuffers-1.12-py2.py3-none-any.whl (15 kB)\r\n",
      "Requirement already satisfied: gast<=0.4.0,>=0.2.1 in /opt/conda/lib/python3.10/site-packages (from tensorflow==2.9.1) (0.4.0)\r\n",
      "Requirement already satisfied: google-pasta>=0.1.1 in /opt/conda/lib/python3.10/site-packages (from tensorflow==2.9.1) (0.2.0)\r\n",
      "Requirement already satisfied: grpcio<2.0,>=1.24.3 in /opt/conda/lib/python3.10/site-packages (from tensorflow==2.9.1) (1.51.1)\r\n",
      "Requirement already satisfied: h5py>=2.9.0 in /opt/conda/lib/python3.10/site-packages (from tensorflow==2.9.1) (3.9.0)\r\n",
      "Collecting keras<2.10.0,>=2.9.0rc0 (from tensorflow==2.9.1)\r\n",
      "  Downloading keras-2.9.0-py2.py3-none-any.whl (1.6 MB)\r\n",
      "\u001b[2K     \u001b[90m━━━━━━━━━━━━━━━━━━━━━━━━━━━━━━━━━━━━━━━━\u001b[0m \u001b[32m1.6/1.6 MB\u001b[0m \u001b[31m71.7 MB/s\u001b[0m eta \u001b[36m0:00:00\u001b[0m\r\n",
      "\u001b[?25hCollecting keras-preprocessing>=1.1.1 (from tensorflow==2.9.1)\r\n",
      "  Downloading Keras_Preprocessing-1.1.2-py2.py3-none-any.whl (42 kB)\r\n",
      "\u001b[2K     \u001b[90m━━━━━━━━━━━━━━━━━━━━━━━━━━━━━━━━━━━━━━━━\u001b[0m \u001b[32m42.6/42.6 kB\u001b[0m \u001b[31m4.2 MB/s\u001b[0m eta \u001b[36m0:00:00\u001b[0m\r\n",
      "\u001b[?25hRequirement already satisfied: libclang>=13.0.0 in /opt/conda/lib/python3.10/site-packages (from tensorflow==2.9.1) (16.0.6)\r\n",
      "Requirement already satisfied: numpy>=1.20 in /opt/conda/lib/python3.10/site-packages (from tensorflow==2.9.1) (1.24.3)\r\n",
      "Requirement already satisfied: opt-einsum>=2.3.2 in /opt/conda/lib/python3.10/site-packages (from tensorflow==2.9.1) (3.3.0)\r\n",
      "Requirement already satisfied: packaging in /opt/conda/lib/python3.10/site-packages (from tensorflow==2.9.1) (21.3)\r\n",
      "Collecting protobuf<3.20,>=3.9.2 (from tensorflow==2.9.1)\r\n",
      "  Downloading protobuf-3.19.6-cp310-cp310-manylinux_2_17_x86_64.manylinux2014_x86_64.whl (1.1 MB)\r\n",
      "\u001b[2K     \u001b[90m━━━━━━━━━━━━━━━━━━━━━━━━━━━━━━━━━━━━━━━━\u001b[0m \u001b[32m1.1/1.1 MB\u001b[0m \u001b[31m59.7 MB/s\u001b[0m eta \u001b[36m0:00:00\u001b[0m\r\n",
      "\u001b[?25hRequirement already satisfied: setuptools in /opt/conda/lib/python3.10/site-packages (from tensorflow==2.9.1) (68.1.2)\r\n",
      "Requirement already satisfied: six>=1.12.0 in /opt/conda/lib/python3.10/site-packages (from tensorflow==2.9.1) (1.16.0)\r\n",
      "Collecting tensorboard<2.10,>=2.9 (from tensorflow==2.9.1)\r\n",
      "  Downloading tensorboard-2.9.1-py3-none-any.whl (5.8 MB)\r\n",
      "\u001b[2K     \u001b[90m━━━━━━━━━━━━━━━━━━━━━━━━━━━━━━━━━━━━━━━━\u001b[0m \u001b[32m5.8/5.8 MB\u001b[0m \u001b[31m89.2 MB/s\u001b[0m eta \u001b[36m0:00:00\u001b[0m\r\n",
      "\u001b[?25hRequirement already satisfied: tensorflow-io-gcs-filesystem>=0.23.1 in /opt/conda/lib/python3.10/site-packages (from tensorflow==2.9.1) (0.34.0)\r\n",
      "Collecting tensorflow-estimator<2.10.0,>=2.9.0rc0 (from tensorflow==2.9.1)\r\n",
      "  Downloading tensorflow_estimator-2.9.0-py2.py3-none-any.whl (438 kB)\r\n",
      "\u001b[2K     \u001b[90m━━━━━━━━━━━━━━━━━━━━━━━━━━━━━━━━━━━━━━\u001b[0m \u001b[32m438.7/438.7 kB\u001b[0m \u001b[31m35.7 MB/s\u001b[0m eta \u001b[36m0:00:00\u001b[0m\r\n",
      "\u001b[?25hRequirement already satisfied: termcolor>=1.1.0 in /opt/conda/lib/python3.10/site-packages (from tensorflow==2.9.1) (2.3.0)\r\n",
      "Requirement already satisfied: typing-extensions>=3.6.6 in /opt/conda/lib/python3.10/site-packages (from tensorflow==2.9.1) (4.5.0)\r\n",
      "Requirement already satisfied: wrapt>=1.11.0 in /opt/conda/lib/python3.10/site-packages (from tensorflow==2.9.1) (1.15.0)\r\n",
      "Requirement already satisfied: wheel<1.0,>=0.23.0 in /opt/conda/lib/python3.10/site-packages (from astunparse>=1.6.0->tensorflow==2.9.1) (0.41.2)\r\n",
      "Requirement already satisfied: google-auth<3,>=1.6.3 in /opt/conda/lib/python3.10/site-packages (from tensorboard<2.10,>=2.9->tensorflow==2.9.1) (2.22.0)\r\n",
      "Collecting google-auth-oauthlib<0.5,>=0.4.1 (from tensorboard<2.10,>=2.9->tensorflow==2.9.1)\r\n",
      "  Downloading google_auth_oauthlib-0.4.6-py2.py3-none-any.whl (18 kB)\r\n",
      "Requirement already satisfied: markdown>=2.6.8 in /opt/conda/lib/python3.10/site-packages (from tensorboard<2.10,>=2.9->tensorflow==2.9.1) (3.4.4)\r\n",
      "Requirement already satisfied: requests<3,>=2.21.0 in /opt/conda/lib/python3.10/site-packages (from tensorboard<2.10,>=2.9->tensorflow==2.9.1) (2.31.0)\r\n",
      "Collecting tensorboard-data-server<0.7.0,>=0.6.0 (from tensorboard<2.10,>=2.9->tensorflow==2.9.1)\r\n",
      "  Downloading tensorboard_data_server-0.6.1-py3-none-manylinux2010_x86_64.whl (4.9 MB)\r\n",
      "\u001b[2K     \u001b[90m━━━━━━━━━━━━━━━━━━━━━━━━━━━━━━━━━━━━━━━━\u001b[0m \u001b[32m4.9/4.9 MB\u001b[0m \u001b[31m85.0 MB/s\u001b[0m eta \u001b[36m0:00:00\u001b[0m\r\n",
      "\u001b[?25hCollecting tensorboard-plugin-wit>=1.6.0 (from tensorboard<2.10,>=2.9->tensorflow==2.9.1)\r\n",
      "  Downloading tensorboard_plugin_wit-1.8.1-py3-none-any.whl (781 kB)\r\n",
      "\u001b[2K     \u001b[90m━━━━━━━━━━━━━━━━━━━━━━━━━━━━━━━━━━━━━━\u001b[0m \u001b[32m781.3/781.3 kB\u001b[0m \u001b[31m52.5 MB/s\u001b[0m eta \u001b[36m0:00:00\u001b[0m\r\n",
      "\u001b[?25hRequirement already satisfied: werkzeug>=1.0.1 in /opt/conda/lib/python3.10/site-packages (from tensorboard<2.10,>=2.9->tensorflow==2.9.1) (3.0.1)\r\n",
      "Requirement already satisfied: pyparsing!=3.0.5,>=2.0.2 in /opt/conda/lib/python3.10/site-packages (from packaging->tensorflow==2.9.1) (3.0.9)\r\n",
      "Requirement already satisfied: cachetools<6.0,>=2.0.0 in /opt/conda/lib/python3.10/site-packages (from google-auth<3,>=1.6.3->tensorboard<2.10,>=2.9->tensorflow==2.9.1) (4.2.4)\r\n",
      "Requirement already satisfied: pyasn1-modules>=0.2.1 in /opt/conda/lib/python3.10/site-packages (from google-auth<3,>=1.6.3->tensorboard<2.10,>=2.9->tensorflow==2.9.1) (0.2.7)\r\n",
      "Requirement already satisfied: rsa<5,>=3.1.4 in /opt/conda/lib/python3.10/site-packages (from google-auth<3,>=1.6.3->tensorboard<2.10,>=2.9->tensorflow==2.9.1) (4.9)\r\n",
      "Requirement already satisfied: urllib3<2.0 in /opt/conda/lib/python3.10/site-packages (from google-auth<3,>=1.6.3->tensorboard<2.10,>=2.9->tensorflow==2.9.1) (1.26.15)\r\n",
      "Requirement already satisfied: requests-oauthlib>=0.7.0 in /opt/conda/lib/python3.10/site-packages (from google-auth-oauthlib<0.5,>=0.4.1->tensorboard<2.10,>=2.9->tensorflow==2.9.1) (1.3.1)\r\n",
      "Requirement already satisfied: charset-normalizer<4,>=2 in /opt/conda/lib/python3.10/site-packages (from requests<3,>=2.21.0->tensorboard<2.10,>=2.9->tensorflow==2.9.1) (3.2.0)\r\n",
      "Requirement already satisfied: idna<4,>=2.5 in /opt/conda/lib/python3.10/site-packages (from requests<3,>=2.21.0->tensorboard<2.10,>=2.9->tensorflow==2.9.1) (3.4)\r\n",
      "Requirement already satisfied: certifi>=2017.4.17 in /opt/conda/lib/python3.10/site-packages (from requests<3,>=2.21.0->tensorboard<2.10,>=2.9->tensorflow==2.9.1) (2023.7.22)\r\n",
      "Requirement already satisfied: MarkupSafe>=2.1.1 in /opt/conda/lib/python3.10/site-packages (from werkzeug>=1.0.1->tensorboard<2.10,>=2.9->tensorflow==2.9.1) (2.1.3)\r\n",
      "Requirement already satisfied: pyasn1<0.5.0,>=0.4.6 in /opt/conda/lib/python3.10/site-packages (from pyasn1-modules>=0.2.1->google-auth<3,>=1.6.3->tensorboard<2.10,>=2.9->tensorflow==2.9.1) (0.4.8)\r\n",
      "Requirement already satisfied: oauthlib>=3.0.0 in /opt/conda/lib/python3.10/site-packages (from requests-oauthlib>=0.7.0->google-auth-oauthlib<0.5,>=0.4.1->tensorboard<2.10,>=2.9->tensorflow==2.9.1) (3.2.2)\r\n",
      "Installing collected packages: tensorboard-plugin-wit, keras, flatbuffers, tensorflow-estimator, tensorboard-data-server, protobuf, keras-preprocessing, google-auth-oauthlib, tensorboard, tensorflow\r\n",
      "  Attempting uninstall: keras\r\n",
      "    Found existing installation: keras 2.13.1\r\n",
      "    Uninstalling keras-2.13.1:\r\n",
      "      Successfully uninstalled keras-2.13.1\r\n",
      "  Attempting uninstall: flatbuffers\r\n",
      "    Found existing installation: flatbuffers 23.5.26\r\n",
      "    Uninstalling flatbuffers-23.5.26:\r\n",
      "      Successfully uninstalled flatbuffers-23.5.26\r\n",
      "  Attempting uninstall: tensorflow-estimator\r\n",
      "    Found existing installation: tensorflow-estimator 2.13.0\r\n",
      "    Uninstalling tensorflow-estimator-2.13.0:\r\n",
      "      Successfully uninstalled tensorflow-estimator-2.13.0\r\n",
      "  Attempting uninstall: tensorboard-data-server\r\n",
      "    Found existing installation: tensorboard-data-server 0.7.1\r\n",
      "    Uninstalling tensorboard-data-server-0.7.1:\r\n",
      "      Successfully uninstalled tensorboard-data-server-0.7.1\r\n",
      "  Attempting uninstall: protobuf\r\n",
      "    Found existing installation: protobuf 3.20.3\r\n",
      "    Uninstalling protobuf-3.20.3:\r\n",
      "      Successfully uninstalled protobuf-3.20.3\r\n",
      "  Attempting uninstall: google-auth-oauthlib\r\n",
      "    Found existing installation: google-auth-oauthlib 1.0.0\r\n",
      "    Uninstalling google-auth-oauthlib-1.0.0:\r\n",
      "      Successfully uninstalled google-auth-oauthlib-1.0.0\r\n",
      "  Attempting uninstall: tensorboard\r\n",
      "    Found existing installation: tensorboard 2.13.0\r\n",
      "    Uninstalling tensorboard-2.13.0:\r\n",
      "      Successfully uninstalled tensorboard-2.13.0\r\n",
      "  Attempting uninstall: tensorflow\r\n",
      "    Found existing installation: tensorflow 2.13.0\r\n",
      "    Uninstalling tensorflow-2.13.0:\r\n",
      "      Successfully uninstalled tensorflow-2.13.0\r\n",
      "\u001b[31mERROR: pip's dependency resolver does not currently take into account all the packages that are installed. This behaviour is the source of the following dependency conflicts.\r\n",
      "cudf 23.8.0 requires cupy-cuda11x>=12.0.0, which is not installed.\r\n",
      "cuml 23.8.0 requires cupy-cuda11x>=12.0.0, which is not installed.\r\n",
      "dask-cudf 23.8.0 requires cupy-cuda11x>=12.0.0, which is not installed.\r\n",
      "apache-beam 2.46.0 requires dill<0.3.2,>=0.3.1.1, but you have dill 0.3.7 which is incompatible.\r\n",
      "apache-beam 2.46.0 requires pyarrow<10.0.0,>=3.0.0, but you have pyarrow 11.0.0 which is incompatible.\r\n",
      "cudf 23.8.0 requires pandas<1.6.0dev0,>=1.3, but you have pandas 2.0.3 which is incompatible.\r\n",
      "cudf 23.8.0 requires protobuf<5,>=4.21, but you have protobuf 3.19.6 which is incompatible.\r\n",
      "cuml 23.8.0 requires dask==2023.7.1, but you have dask 2023.11.0 which is incompatible.\r\n",
      "cuml 23.8.0 requires distributed==2023.7.1, but you have distributed 2023.11.0 which is incompatible.\r\n",
      "dask-cudf 23.8.0 requires dask==2023.7.1, but you have dask 2023.11.0 which is incompatible.\r\n",
      "dask-cudf 23.8.0 requires distributed==2023.7.1, but you have distributed 2023.11.0 which is incompatible.\r\n",
      "dask-cudf 23.8.0 requires pandas<1.6.0dev0,>=1.3, but you have pandas 2.0.3 which is incompatible.\r\n",
      "gcsfs 2023.6.0 requires fsspec==2023.6.0, but you have fsspec 2023.10.0 which is incompatible.\r\n",
      "google-cloud-aiplatform 0.6.0a1 requires google-api-core[grpc]<2.0.0dev,>=1.22.2, but you have google-api-core 2.11.1 which is incompatible.\r\n",
      "google-cloud-automl 1.0.1 requires google-api-core[grpc]<2.0.0dev,>=1.14.0, but you have google-api-core 2.11.1 which is incompatible.\r\n",
      "google-cloud-pubsub 2.18.3 requires grpcio<2.0dev,>=1.51.3, but you have grpcio 1.51.1 which is incompatible.\r\n",
      "kfp 2.0.1 requires google-cloud-storage<3,>=2.2.1, but you have google-cloud-storage 1.44.0 which is incompatible.\r\n",
      "onnx 1.15.0 requires protobuf>=3.20.2, but you have protobuf 3.19.6 which is incompatible.\r\n",
      "tensorboardx 2.6.2.2 requires protobuf>=3.20, but you have protobuf 3.19.6 which is incompatible.\r\n",
      "tensorflow-datasets 4.9.2 requires protobuf>=3.20, but you have protobuf 3.19.6 which is incompatible.\r\n",
      "tensorflow-decision-forests 1.5.0 requires tensorflow~=2.13.0, but you have tensorflow 2.9.1 which is incompatible.\r\n",
      "tensorflow-serving-api 2.13.0 requires protobuf!=4.21.0,!=4.21.1,!=4.21.2,!=4.21.3,!=4.21.4,!=4.21.5,<5.0.0dev,>=3.20.3, but you have protobuf 3.19.6 which is incompatible.\r\n",
      "tensorflow-serving-api 2.13.0 requires tensorflow<3,>=2.13.0, but you have tensorflow 2.9.1 which is incompatible.\r\n",
      "tensorflow-text 2.13.0 requires tensorflow<2.14,>=2.13.0; platform_machine != \"arm64\" or platform_system != \"Darwin\", but you have tensorflow 2.9.1 which is incompatible.\r\n",
      "tensorflowjs 4.13.0 requires packaging~=23.1, but you have packaging 21.3 which is incompatible.\r\n",
      "tensorflowjs 4.13.0 requires tensorflow<3,>=2.13.0, but you have tensorflow 2.9.1 which is incompatible.\u001b[0m\u001b[31m\r\n",
      "\u001b[0mSuccessfully installed flatbuffers-1.12 google-auth-oauthlib-0.4.6 keras-2.9.0 keras-preprocessing-1.1.2 protobuf-3.19.6 tensorboard-2.9.1 tensorboard-data-server-0.6.1 tensorboard-plugin-wit-1.8.1 tensorflow-2.9.1 tensorflow-estimator-2.9.0\r\n"
     ]
    }
   ],
   "source": [
    "!pip install tensorflow==2.9.1"
   ]
  },
  {
   "cell_type": "code",
   "execution_count": 2,
   "id": "d3756cf0",
   "metadata": {
    "_cell_guid": "b1076dfc-b9ad-4769-8c92-a6c4dae69d19",
    "_uuid": "8f2839f25d086af736a60e9eeb907d3b93b6e0e5",
    "execution": {
     "iopub.execute_input": "2023-11-16T14:08:54.494980Z",
     "iopub.status.busy": "2023-11-16T14:08:54.494643Z",
     "iopub.status.idle": "2023-11-16T14:09:01.434843Z",
     "shell.execute_reply": "2023-11-16T14:09:01.433688Z"
    },
    "papermill": {
     "duration": 6.962476,
     "end_time": "2023-11-16T14:09:01.437267",
     "exception": false,
     "start_time": "2023-11-16T14:08:54.474791",
     "status": "completed"
    },
    "tags": []
   },
   "outputs": [
    {
     "name": "stderr",
     "output_type": "stream",
     "text": [
      "/opt/conda/lib/python3.10/site-packages/scipy/__init__.py:146: UserWarning: A NumPy version >=1.16.5 and <1.23.0 is required for this version of SciPy (detected version 1.24.3\n",
      "  warnings.warn(f\"A NumPy version >={np_minversion} and <{np_maxversion}\"\n"
     ]
    },
    {
     "name": "stdout",
     "output_type": "stream",
     "text": [
      "modules loaded\n"
     ]
    }
   ],
   "source": [
    "# import system libs\n",
    "import os\n",
    "import time\n",
    "import shutil\n",
    "import pathlib\n",
    "import itertools\n",
    "from PIL import Image\n",
    "\n",
    "# import data handling tools\n",
    "\n",
    "import cv2\n",
    "import numpy as np\n",
    "import pandas as pd\n",
    "import seaborn as sns\n",
    "sns.set_style('darkgrid')\n",
    "import matplotlib.pyplot as plt\n",
    "from sklearn.model_selection import train_test_split\n",
    "from sklearn.metrics import confusion_matrix, classification_report\n",
    "\n",
    "# import Deep learning Libraries\n",
    "import tensorflow as tf\n",
    "from tensorflow import keras\n",
    "from tensorflow.keras.models import Sequential\n",
    "from tensorflow.keras.optimizers import Adam, Adamax\n",
    "from tensorflow.keras.preprocessing.image import ImageDataGenerator\n",
    "from tensorflow.keras.layers import Conv2D, MaxPooling2D, Flatten, Dense, Activation, Dropout, BatchNormalization\n",
    "from tensorflow.keras import regularizers\n",
    "\n",
    "# Ignore Warnings\n",
    "import warnings\n",
    "warnings.filterwarnings(\"ignore\")\n",
    "\n",
    "print ('modules loaded')"
   ]
  },
  {
   "cell_type": "code",
   "execution_count": 3,
   "id": "7aacd56b",
   "metadata": {
    "execution": {
     "iopub.execute_input": "2023-11-16T14:09:01.482526Z",
     "iopub.status.busy": "2023-11-16T14:09:01.481929Z",
     "iopub.status.idle": "2023-11-16T14:09:02.457588Z",
     "shell.execute_reply": "2023-11-16T14:09:02.456469Z"
    },
    "papermill": {
     "duration": 1.000565,
     "end_time": "2023-11-16T14:09:02.459978",
     "exception": false,
     "start_time": "2023-11-16T14:09:01.459413",
     "status": "completed"
    },
    "tags": []
   },
   "outputs": [
    {
     "name": "stdout",
     "output_type": "stream",
     "text": [
      "Python 3.10.12\r\n"
     ]
    }
   ],
   "source": [
    "! python --version"
   ]
  },
  {
   "cell_type": "code",
   "execution_count": 4,
   "id": "f93b0d6f",
   "metadata": {
    "execution": {
     "iopub.execute_input": "2023-11-16T14:09:02.500630Z",
     "iopub.status.busy": "2023-11-16T14:09:02.500276Z",
     "iopub.status.idle": "2023-11-16T14:09:03.098918Z",
     "shell.execute_reply": "2023-11-16T14:09:03.098143Z"
    },
    "papermill": {
     "duration": 0.62153,
     "end_time": "2023-11-16T14:09:03.101360",
     "exception": false,
     "start_time": "2023-11-16T14:09:02.479830",
     "status": "completed"
    },
    "tags": []
   },
   "outputs": [],
   "source": [
    "# Generate data paths with labels\n",
    "data_dir = '/kaggle/input/multiclass-weather-dataset/Multi-class Weather Dataset'\n",
    "filepaths = []\n",
    "labels = []\n",
    "\n",
    "folds = os.listdir(data_dir)\n",
    "for fold in folds:\n",
    "    foldpath = os.path.join(data_dir, fold)\n",
    "    filelist = os.listdir(foldpath)\n",
    "    for file in filelist:\n",
    "        fpath = os.path.join(foldpath, file)\n",
    "        \n",
    "        filepaths.append(fpath)\n",
    "        labels.append(fold)\n",
    "\n",
    "# Concatenate data paths with labels into one dataframe\n",
    "Fseries = pd.Series(filepaths, name= 'filepaths')\n",
    "Lseries = pd.Series(labels, name='labels')\n",
    "df = pd.concat([Fseries, Lseries], axis= 1)"
   ]
  },
  {
   "cell_type": "code",
   "execution_count": 5,
   "id": "1cdb493d",
   "metadata": {
    "execution": {
     "iopub.execute_input": "2023-11-16T14:09:03.142000Z",
     "iopub.status.busy": "2023-11-16T14:09:03.141672Z",
     "iopub.status.idle": "2023-11-16T14:09:03.162439Z",
     "shell.execute_reply": "2023-11-16T14:09:03.161602Z"
    },
    "papermill": {
     "duration": 0.044018,
     "end_time": "2023-11-16T14:09:03.164420",
     "exception": false,
     "start_time": "2023-11-16T14:09:03.120402",
     "status": "completed"
    },
    "tags": []
   },
   "outputs": [
    {
     "data": {
      "text/html": [
       "<div>\n",
       "<style scoped>\n",
       "    .dataframe tbody tr th:only-of-type {\n",
       "        vertical-align: middle;\n",
       "    }\n",
       "\n",
       "    .dataframe tbody tr th {\n",
       "        vertical-align: top;\n",
       "    }\n",
       "\n",
       "    .dataframe thead th {\n",
       "        text-align: right;\n",
       "    }\n",
       "</style>\n",
       "<table border=\"1\" class=\"dataframe\">\n",
       "  <thead>\n",
       "    <tr style=\"text-align: right;\">\n",
       "      <th></th>\n",
       "      <th>filepaths</th>\n",
       "      <th>labels</th>\n",
       "    </tr>\n",
       "  </thead>\n",
       "  <tbody>\n",
       "    <tr>\n",
       "      <th>0</th>\n",
       "      <td>/kaggle/input/multiclass-weather-dataset/Multi...</td>\n",
       "      <td>Cloudy</td>\n",
       "    </tr>\n",
       "    <tr>\n",
       "      <th>1</th>\n",
       "      <td>/kaggle/input/multiclass-weather-dataset/Multi...</td>\n",
       "      <td>Cloudy</td>\n",
       "    </tr>\n",
       "    <tr>\n",
       "      <th>2</th>\n",
       "      <td>/kaggle/input/multiclass-weather-dataset/Multi...</td>\n",
       "      <td>Cloudy</td>\n",
       "    </tr>\n",
       "    <tr>\n",
       "      <th>3</th>\n",
       "      <td>/kaggle/input/multiclass-weather-dataset/Multi...</td>\n",
       "      <td>Cloudy</td>\n",
       "    </tr>\n",
       "    <tr>\n",
       "      <th>4</th>\n",
       "      <td>/kaggle/input/multiclass-weather-dataset/Multi...</td>\n",
       "      <td>Cloudy</td>\n",
       "    </tr>\n",
       "    <tr>\n",
       "      <th>...</th>\n",
       "      <td>...</td>\n",
       "      <td>...</td>\n",
       "    </tr>\n",
       "    <tr>\n",
       "      <th>1120</th>\n",
       "      <td>/kaggle/input/multiclass-weather-dataset/Multi...</td>\n",
       "      <td>Shine</td>\n",
       "    </tr>\n",
       "    <tr>\n",
       "      <th>1121</th>\n",
       "      <td>/kaggle/input/multiclass-weather-dataset/Multi...</td>\n",
       "      <td>Shine</td>\n",
       "    </tr>\n",
       "    <tr>\n",
       "      <th>1122</th>\n",
       "      <td>/kaggle/input/multiclass-weather-dataset/Multi...</td>\n",
       "      <td>Shine</td>\n",
       "    </tr>\n",
       "    <tr>\n",
       "      <th>1123</th>\n",
       "      <td>/kaggle/input/multiclass-weather-dataset/Multi...</td>\n",
       "      <td>Shine</td>\n",
       "    </tr>\n",
       "    <tr>\n",
       "      <th>1124</th>\n",
       "      <td>/kaggle/input/multiclass-weather-dataset/Multi...</td>\n",
       "      <td>Shine</td>\n",
       "    </tr>\n",
       "  </tbody>\n",
       "</table>\n",
       "<p>1125 rows × 2 columns</p>\n",
       "</div>"
      ],
      "text/plain": [
       "                                              filepaths  labels\n",
       "0     /kaggle/input/multiclass-weather-dataset/Multi...  Cloudy\n",
       "1     /kaggle/input/multiclass-weather-dataset/Multi...  Cloudy\n",
       "2     /kaggle/input/multiclass-weather-dataset/Multi...  Cloudy\n",
       "3     /kaggle/input/multiclass-weather-dataset/Multi...  Cloudy\n",
       "4     /kaggle/input/multiclass-weather-dataset/Multi...  Cloudy\n",
       "...                                                 ...     ...\n",
       "1120  /kaggle/input/multiclass-weather-dataset/Multi...   Shine\n",
       "1121  /kaggle/input/multiclass-weather-dataset/Multi...   Shine\n",
       "1122  /kaggle/input/multiclass-weather-dataset/Multi...   Shine\n",
       "1123  /kaggle/input/multiclass-weather-dataset/Multi...   Shine\n",
       "1124  /kaggle/input/multiclass-weather-dataset/Multi...   Shine\n",
       "\n",
       "[1125 rows x 2 columns]"
      ]
     },
     "execution_count": 5,
     "metadata": {},
     "output_type": "execute_result"
    }
   ],
   "source": [
    "df"
   ]
  },
  {
   "cell_type": "code",
   "execution_count": 6,
   "id": "2d3d4136",
   "metadata": {
    "execution": {
     "iopub.execute_input": "2023-11-16T14:09:03.203653Z",
     "iopub.status.busy": "2023-11-16T14:09:03.203335Z",
     "iopub.status.idle": "2023-11-16T14:09:03.212026Z",
     "shell.execute_reply": "2023-11-16T14:09:03.211366Z"
    },
    "papermill": {
     "duration": 0.030377,
     "end_time": "2023-11-16T14:09:03.213923",
     "exception": false,
     "start_time": "2023-11-16T14:09:03.183546",
     "status": "completed"
    },
    "tags": []
   },
   "outputs": [],
   "source": [
    "# train dataframe\n",
    "train_df, dummy_df = train_test_split(df,  train_size= 0.8, shuffle= True, random_state= 123)\n",
    "\n",
    "# valid and test dataframe\n",
    "valid_df, test_df = train_test_split(dummy_df,  train_size= 0.6, shuffle= True, random_state= 123)"
   ]
  },
  {
   "cell_type": "code",
   "execution_count": 7,
   "id": "e5914790",
   "metadata": {
    "execution": {
     "iopub.execute_input": "2023-11-16T14:09:03.254231Z",
     "iopub.status.busy": "2023-11-16T14:09:03.253911Z",
     "iopub.status.idle": "2023-11-16T14:09:03.287005Z",
     "shell.execute_reply": "2023-11-16T14:09:03.286088Z"
    },
    "papermill": {
     "duration": 0.056149,
     "end_time": "2023-11-16T14:09:03.288924",
     "exception": false,
     "start_time": "2023-11-16T14:09:03.232775",
     "status": "completed"
    },
    "tags": []
   },
   "outputs": [
    {
     "name": "stdout",
     "output_type": "stream",
     "text": [
      "Found 900 validated image filenames belonging to 4 classes.\n",
      "Found 135 validated image filenames belonging to 4 classes.\n",
      "Found 90 validated image filenames belonging to 4 classes.\n"
     ]
    }
   ],
   "source": [
    "# crobed image size\n",
    "batch_size = 16\n",
    "img_size = (224, 224)\n",
    "channels = 3\n",
    "img_shape = (img_size[0], img_size[1], channels)\n",
    "\n",
    "tr_gen = ImageDataGenerator()\n",
    "ts_gen = ImageDataGenerator()\n",
    "\n",
    "train_gen = tr_gen.flow_from_dataframe( train_df, x_col= 'filepaths', y_col= 'labels', target_size= img_size, class_mode= 'categorical',\n",
    "                                    color_mode= 'rgb', shuffle= True, batch_size= batch_size)\n",
    "\n",
    "valid_gen = ts_gen.flow_from_dataframe( valid_df, x_col= 'filepaths', y_col= 'labels', target_size= img_size, class_mode= 'categorical',\n",
    "                                    color_mode= 'rgb', shuffle= True, batch_size= batch_size)\n",
    "\n",
    "test_gen = ts_gen.flow_from_dataframe( test_df, x_col= 'filepaths', y_col= 'labels', target_size= img_size, class_mode= 'categorical',\n",
    "                                    color_mode= 'rgb', shuffle= False, batch_size= batch_size)"
   ]
  },
  {
   "cell_type": "code",
   "execution_count": 8,
   "id": "58b923e1",
   "metadata": {
    "execution": {
     "iopub.execute_input": "2023-11-16T14:09:03.328132Z",
     "iopub.status.busy": "2023-11-16T14:09:03.327810Z",
     "iopub.status.idle": "2023-11-16T14:09:09.861462Z",
     "shell.execute_reply": "2023-11-16T14:09:09.860540Z"
    },
    "papermill": {
     "duration": 6.555511,
     "end_time": "2023-11-16T14:09:09.863449",
     "exception": false,
     "start_time": "2023-11-16T14:09:03.307938",
     "status": "completed"
    },
    "tags": []
   },
   "outputs": [
    {
     "name": "stdout",
     "output_type": "stream",
     "text": [
      "Downloading data from https://storage.googleapis.com/keras-applications/efficientnetb3_notop.h5\n",
      "43941136/43941136 [==============================] - 0s 0us/step\n",
      "Model: \"sequential\"\n",
      "_________________________________________________________________\n",
      " Layer (type)                Output Shape              Param #   \n",
      "=================================================================\n",
      " efficientnetb3 (Functional)  (None, 1536)             10783535  \n",
      "                                                                 \n",
      " batch_normalization (BatchN  (None, 1536)             6144      \n",
      " ormalization)                                                   \n",
      "                                                                 \n",
      " dense (Dense)               (None, 256)               393472    \n",
      "                                                                 \n",
      " dropout (Dropout)           (None, 256)               0         \n",
      "                                                                 \n",
      " dense_1 (Dense)             (None, 4)                 1028      \n",
      "                                                                 \n",
      "=================================================================\n",
      "Total params: 11,184,179\n",
      "Trainable params: 11,093,804\n",
      "Non-trainable params: 90,375\n",
      "_________________________________________________________________\n"
     ]
    }
   ],
   "source": [
    "# Create Model Structure\n",
    "img_size = (224, 224)\n",
    "channels = 3\n",
    "img_shape = (img_size[0], img_size[1], channels)\n",
    "class_count = len(list(train_gen.class_indices.keys())) # to define number of classes in dense layer\n",
    "\n",
    "# create pre-trained model (you can built on pretrained model such as :  efficientnet, VGG , Resnet )\n",
    "# we will use efficientnetb3 from EfficientNet family.\n",
    "base_model = tf.keras.applications.efficientnet.EfficientNetB3(include_top= False, weights= \"imagenet\", \n",
    "                                                               input_shape= img_shape, pooling= 'max')\n",
    "\n",
    "model = Sequential([\n",
    "    base_model,BatchNormalization(axis= -1, momentum= 0.99, epsilon= 0.001),\n",
    "    Dense(256, kernel_regularizer= regularizers.l2(l= 0.016), activity_regularizer= regularizers.l1(0.006),\n",
    "                bias_regularizer= regularizers.l1(0.006), activation= 'relu'),\n",
    "    Dropout(rate= 0.45, seed= 123),\n",
    "    Dense(class_count, activation= 'softmax')\n",
    "])\n",
    "\n",
    "model.compile(Adamax(learning_rate= 0.001), loss= 'categorical_crossentropy', \n",
    "              metrics= ['accuracy', tf.keras.metrics.Precision(), tf.keras.metrics.Recall(), \n",
    "                        tf.keras.metrics.AUC()])\n",
    "\n",
    "model.summary()"
   ]
  },
  {
   "cell_type": "code",
   "execution_count": 9,
   "id": "1d7fd391",
   "metadata": {
    "execution": {
     "iopub.execute_input": "2023-11-16T14:09:09.907336Z",
     "iopub.status.busy": "2023-11-16T14:09:09.906861Z",
     "iopub.status.idle": "2023-11-16T14:15:09.187887Z",
     "shell.execute_reply": "2023-11-16T14:15:09.187078Z"
    },
    "papermill": {
     "duration": 359.305363,
     "end_time": "2023-11-16T14:15:09.190055",
     "exception": false,
     "start_time": "2023-11-16T14:09:09.884692",
     "status": "completed"
    },
    "tags": []
   },
   "outputs": [
    {
     "name": "stdout",
     "output_type": "stream",
     "text": [
      "Epoch 1/25\n",
      "57/57 [==============================] - 41s 331ms/step - loss: 8.0230 - accuracy: 0.8011 - precision: 0.8333 - recall: 0.7833 - auc: 0.9563 - val_loss: 7.7937 - val_accuracy: 0.8296 - val_precision: 0.8333 - val_recall: 0.8148 - val_auc: 0.9630\n",
      "Epoch 2/25\n",
      "57/57 [==============================] - 13s 230ms/step - loss: 6.7788 - accuracy: 0.9422 - precision: 0.9481 - recall: 0.9333 - auc: 0.9924 - val_loss: 6.5761 - val_accuracy: 0.9333 - val_precision: 0.9403 - val_recall: 0.9333 - val_auc: 0.9947\n",
      "Epoch 3/25\n",
      "57/57 [==============================] - 14s 235ms/step - loss: 5.9145 - accuracy: 0.9689 - precision: 0.9752 - recall: 0.9611 - auc: 0.9987 - val_loss: 5.6605 - val_accuracy: 0.9630 - val_precision: 0.9627 - val_recall: 0.9556 - val_auc: 0.9983\n",
      "Epoch 4/25\n",
      "57/57 [==============================] - 13s 229ms/step - loss: 5.2561 - accuracy: 0.9633 - precision: 0.9684 - recall: 0.9533 - auc: 0.9962 - val_loss: 4.9926 - val_accuracy: 0.9630 - val_precision: 0.9701 - val_recall: 0.9630 - val_auc: 0.9991\n",
      "Epoch 5/25\n",
      "57/57 [==============================] - 13s 231ms/step - loss: 4.6148 - accuracy: 0.9756 - precision: 0.9809 - recall: 0.9711 - auc: 0.9985 - val_loss: 4.4006 - val_accuracy: 0.9778 - val_precision: 0.9851 - val_recall: 0.9778 - val_auc: 0.9997\n",
      "Epoch 6/25\n",
      "57/57 [==============================] - 13s 229ms/step - loss: 4.2064 - accuracy: 0.9622 - precision: 0.9694 - recall: 0.9500 - auc: 0.9950 - val_loss: 3.9785 - val_accuracy: 0.9704 - val_precision: 0.9704 - val_recall: 0.9704 - val_auc: 0.9996\n",
      "Epoch 7/25\n",
      "57/57 [==============================] - 13s 232ms/step - loss: 3.7720 - accuracy: 0.9678 - precision: 0.9763 - recall: 0.9600 - auc: 0.9975 - val_loss: 3.5713 - val_accuracy: 0.9778 - val_precision: 0.9851 - val_recall: 0.9778 - val_auc: 0.9997\n",
      "Epoch 8/25\n",
      "57/57 [==============================] - 13s 230ms/step - loss: 3.3947 - accuracy: 0.9878 - precision: 0.9921 - recall: 0.9744 - auc: 0.9994 - val_loss: 3.2406 - val_accuracy: 0.9778 - val_precision: 0.9776 - val_recall: 0.9704 - val_auc: 0.9995\n",
      "Epoch 9/25\n",
      "57/57 [==============================] - 13s 229ms/step - loss: 3.0839 - accuracy: 0.9878 - precision: 0.9921 - recall: 0.9822 - auc: 0.9995 - val_loss: 2.9506 - val_accuracy: 0.9778 - val_precision: 0.9778 - val_recall: 0.9778 - val_auc: 0.9994\n",
      "Epoch 10/25\n",
      "57/57 [==============================] - 13s 230ms/step - loss: 2.7989 - accuracy: 0.9922 - precision: 0.9944 - recall: 0.9900 - auc: 0.9998 - val_loss: 2.7058 - val_accuracy: 0.9704 - val_precision: 0.9704 - val_recall: 0.9704 - val_auc: 0.9996\n",
      "Epoch 11/25\n",
      "57/57 [==============================] - 13s 230ms/step - loss: 2.5764 - accuracy: 0.9856 - precision: 0.9899 - recall: 0.9789 - auc: 0.9997 - val_loss: 2.4480 - val_accuracy: 0.9778 - val_precision: 0.9851 - val_recall: 0.9778 - val_auc: 0.9995\n",
      "Epoch 12/25\n",
      "57/57 [==============================] - 14s 234ms/step - loss: 2.3455 - accuracy: 0.9933 - precision: 0.9933 - recall: 0.9911 - auc: 0.9998 - val_loss: 2.2497 - val_accuracy: 0.9852 - val_precision: 0.9852 - val_recall: 0.9852 - val_auc: 0.9995\n",
      "Epoch 13/25\n",
      "57/57 [==============================] - 13s 233ms/step - loss: 2.1608 - accuracy: 0.9922 - precision: 0.9922 - recall: 0.9889 - auc: 0.9985 - val_loss: 2.0629 - val_accuracy: 0.9778 - val_precision: 0.9851 - val_recall: 0.9778 - val_auc: 0.9996\n",
      "Epoch 14/25\n",
      "57/57 [==============================] - 13s 229ms/step - loss: 1.9893 - accuracy: 0.9956 - precision: 0.9966 - recall: 0.9900 - auc: 0.9999 - val_loss: 1.9121 - val_accuracy: 0.9852 - val_precision: 0.9852 - val_recall: 0.9852 - val_auc: 0.9987\n",
      "Epoch 15/25\n",
      "57/57 [==============================] - 13s 231ms/step - loss: 1.8729 - accuracy: 0.9867 - precision: 0.9899 - recall: 0.9800 - auc: 0.9966 - val_loss: 1.7915 - val_accuracy: 0.9852 - val_precision: 0.9852 - val_recall: 0.9852 - val_auc: 0.9985\n",
      "Epoch 16/25\n",
      "57/57 [==============================] - 13s 231ms/step - loss: 1.7332 - accuracy: 0.9889 - precision: 0.9900 - recall: 0.9856 - auc: 0.9994 - val_loss: 1.6767 - val_accuracy: 0.9778 - val_precision: 0.9778 - val_recall: 0.9778 - val_auc: 0.9943\n",
      "Epoch 17/25\n",
      "57/57 [==============================] - 13s 230ms/step - loss: 1.5602 - accuracy: 0.9967 - precision: 0.9978 - recall: 0.9911 - auc: 1.0000 - val_loss: 1.5360 - val_accuracy: 0.9852 - val_precision: 0.9852 - val_recall: 0.9852 - val_auc: 0.9973\n",
      "Epoch 18/25\n",
      "57/57 [==============================] - 13s 229ms/step - loss: 1.4379 - accuracy: 0.9967 - precision: 0.9989 - recall: 0.9922 - auc: 1.0000 - val_loss: 1.4001 - val_accuracy: 0.9778 - val_precision: 0.9778 - val_recall: 0.9778 - val_auc: 0.9994\n",
      "Epoch 19/25\n",
      "57/57 [==============================] - 13s 234ms/step - loss: 1.3244 - accuracy: 0.9978 - precision: 0.9989 - recall: 0.9956 - auc: 1.0000 - val_loss: 1.2966 - val_accuracy: 0.9778 - val_precision: 0.9778 - val_recall: 0.9778 - val_auc: 0.9994\n",
      "Epoch 20/25\n",
      "57/57 [==============================] - 13s 234ms/step - loss: 1.2285 - accuracy: 0.9956 - precision: 0.9967 - recall: 0.9944 - auc: 0.9999 - val_loss: 1.1937 - val_accuracy: 0.9852 - val_precision: 0.9851 - val_recall: 0.9778 - val_auc: 0.9992\n",
      "Epoch 21/25\n",
      "57/57 [==============================] - 13s 229ms/step - loss: 1.1235 - accuracy: 0.9978 - precision: 0.9989 - recall: 0.9978 - auc: 1.0000 - val_loss: 1.1044 - val_accuracy: 0.9852 - val_precision: 0.9852 - val_recall: 0.9852 - val_auc: 0.9987\n",
      "Epoch 22/25\n",
      "57/57 [==============================] - 13s 230ms/step - loss: 1.0529 - accuracy: 0.9933 - precision: 0.9967 - recall: 0.9922 - auc: 0.9997 - val_loss: 1.0403 - val_accuracy: 0.9852 - val_precision: 0.9852 - val_recall: 0.9852 - val_auc: 0.9938\n",
      "Epoch 23/25\n",
      "57/57 [==============================] - 13s 234ms/step - loss: 0.9887 - accuracy: 0.9933 - precision: 0.9944 - recall: 0.9900 - auc: 0.9997 - val_loss: 0.9671 - val_accuracy: 0.9852 - val_precision: 0.9852 - val_recall: 0.9852 - val_auc: 0.9947\n",
      "Epoch 24/25\n",
      "57/57 [==============================] - 13s 229ms/step - loss: 0.8939 - accuracy: 1.0000 - precision: 1.0000 - recall: 0.9989 - auc: 1.0000 - val_loss: 0.8958 - val_accuracy: 0.9852 - val_precision: 0.9852 - val_recall: 0.9852 - val_auc: 0.9958\n",
      "Epoch 25/25\n",
      "57/57 [==============================] - 13s 232ms/step - loss: 0.8295 - accuracy: 0.9967 - precision: 0.9967 - recall: 0.9967 - auc: 0.9999 - val_loss: 0.8381 - val_accuracy: 0.9852 - val_precision: 0.9852 - val_recall: 0.9852 - val_auc: 0.9956\n"
     ]
    }
   ],
   "source": [
    "epochs = 25   # number of all epochs in training\n",
    "\n",
    "history = model.fit(x= train_gen, epochs= epochs, verbose= 1, validation_data= valid_gen, \n",
    "                    validation_steps= None, shuffle= False)"
   ]
  },
  {
   "cell_type": "code",
   "execution_count": 10,
   "id": "659be2d5",
   "metadata": {
    "execution": {
     "iopub.execute_input": "2023-11-16T14:15:09.470938Z",
     "iopub.status.busy": "2023-11-16T14:15:09.470573Z",
     "iopub.status.idle": "2023-11-16T14:15:10.773149Z",
     "shell.execute_reply": "2023-11-16T14:15:10.772124Z"
    },
    "papermill": {
     "duration": 1.44577,
     "end_time": "2023-11-16T14:15:10.775357",
     "exception": false,
     "start_time": "2023-11-16T14:15:09.329587",
     "status": "completed"
    },
    "tags": []
   },
   "outputs": [
    {
     "name": "stdout",
     "output_type": "stream",
     "text": [
      "2/2 [==============================] - 0s 64ms/step - loss: 0.7650 - accuracy: 1.0000 - precision: 1.0000 - recall: 1.0000 - auc: 1.0000\n",
      "2/2 [==============================] - 0s 64ms/step - loss: 0.9222 - accuracy: 0.9688 - precision: 0.9688 - recall: 0.9688 - auc: 0.9870\n",
      "2/2 [==============================] - 0s 177ms/step - loss: 0.8756 - accuracy: 0.9375 - precision: 0.9355 - recall: 0.9062 - auc: 0.9974\n",
      "Train Loss:  0.7649936676025391\n",
      "Train Accuracy:  1.0\n",
      "--------------------\n",
      "Validation Loss:  0.9221909046173096\n",
      "Validation Accuracy:  0.96875\n",
      "--------------------\n",
      "Test Loss:  0.8755661845207214\n",
      "Test Accuracy:  0.9375\n"
     ]
    }
   ],
   "source": [
    "ts_length = len(test_df)\n",
    "test_batch_size = max(sorted([ts_length // n for n in range(1, ts_length + 1) if ts_length%n == 0 and ts_length/n <= 80]))\n",
    "test_steps = ts_length // test_batch_size\n",
    "\n",
    "train_score = model.evaluate(train_gen, steps= test_steps, verbose= 1)\n",
    "valid_score = model.evaluate(valid_gen, steps= test_steps, verbose= 1)\n",
    "test_score = model.evaluate(test_gen, steps= test_steps, verbose= 1)\n",
    "\n",
    "print(\"Train Loss: \", train_score[0])\n",
    "print(\"Train Accuracy: \", train_score[1])\n",
    "print('-' * 20)\n",
    "print(\"Validation Loss: \", valid_score[0])\n",
    "print(\"Validation Accuracy: \", valid_score[1])\n",
    "print('-' * 20)\n",
    "print(\"Test Loss: \", test_score[0])\n",
    "print(\"Test Accuracy: \", test_score[1])"
   ]
  },
  {
   "cell_type": "code",
   "execution_count": 11,
   "id": "542b96ee",
   "metadata": {
    "execution": {
     "iopub.execute_input": "2023-11-16T14:15:11.058575Z",
     "iopub.status.busy": "2023-11-16T14:15:11.058198Z",
     "iopub.status.idle": "2023-11-16T14:15:14.260812Z",
     "shell.execute_reply": "2023-11-16T14:15:14.259955Z"
    },
    "papermill": {
     "duration": 3.346891,
     "end_time": "2023-11-16T14:15:14.263148",
     "exception": false,
     "start_time": "2023-11-16T14:15:10.916257",
     "status": "completed"
    },
    "tags": []
   },
   "outputs": [],
   "source": [
    "preds = model.predict_generator(test_gen)\n",
    "y_pred = np.argmax(preds, axis=1)"
   ]
  },
  {
   "cell_type": "code",
   "execution_count": 12,
   "id": "924372c5",
   "metadata": {
    "execution": {
     "iopub.execute_input": "2023-11-16T14:15:14.545385Z",
     "iopub.status.busy": "2023-11-16T14:15:14.544660Z",
     "iopub.status.idle": "2023-11-16T14:15:15.051391Z",
     "shell.execute_reply": "2023-11-16T14:15:15.050434Z"
    },
    "papermill": {
     "duration": 0.650541,
     "end_time": "2023-11-16T14:15:15.053745",
     "exception": false,
     "start_time": "2023-11-16T14:15:14.403204",
     "status": "completed"
    },
    "tags": []
   },
   "outputs": [
    {
     "data": {
      "image/png": "[encoded data removed]",
      "text/plain": [
       "<Figure size 1000x1000 with 2 Axes>"
      ]
     },
     "metadata": {},
     "output_type": "display_data"
    }
   ],
   "source": [
    "g_dict = test_gen.class_indices\n",
    "classes = list(g_dict.keys())\n",
    "\n",
    "# Confusion matrix\n",
    "cm = confusion_matrix(test_gen.classes, y_pred)\n",
    "\n",
    "plt.figure(figsize= (10, 10))\n",
    "plt.imshow(cm, interpolation= 'nearest', cmap= plt.cm.Blues)\n",
    "plt.title('Confusion Matrix')\n",
    "plt.colorbar()\n",
    "\n",
    "tick_marks = np.arange(len(classes))\n",
    "plt.xticks(tick_marks, classes, rotation= 45)\n",
    "plt.yticks(tick_marks, classes)\n",
    "\n",
    "\n",
    "thresh = cm.max() / 2.\n",
    "for i, j in itertools.product(range(cm.shape[0]), range(cm.shape[1])):\n",
    "    plt.text(j, i, cm[i, j], horizontalalignment= 'center', color= 'white' if cm[i, j] > thresh else 'black')\n",
    "\n",
    "    \n",
    "\n",
    "plt.tight_layout()\n",
    "plt.ylabel('True Label')\n",
    "plt.xlabel('Predicted Label')\n",
    "\n",
    "plt.show()"
   ]
  },
  {
   "cell_type": "code",
   "execution_count": 13,
   "id": "cdf7d37a",
   "metadata": {
    "execution": {
     "iopub.execute_input": "2023-11-16T14:15:15.337920Z",
     "iopub.status.busy": "2023-11-16T14:15:15.337545Z",
     "iopub.status.idle": "2023-11-16T14:15:15.350960Z",
     "shell.execute_reply": "2023-11-16T14:15:15.349817Z"
    },
    "papermill": {
     "duration": 0.157472,
     "end_time": "2023-11-16T14:15:15.353038",
     "exception": false,
     "start_time": "2023-11-16T14:15:15.195566",
     "status": "completed"
    },
    "tags": []
   },
   "outputs": [
    {
     "name": "stdout",
     "output_type": "stream",
     "text": [
      "              precision    recall  f1-score   support\n",
      "\n",
      "      Cloudy       0.92      1.00      0.96        23\n",
      "        Rain       1.00      1.00      1.00        14\n",
      "       Shine       1.00      0.87      0.93        23\n",
      "     Sunrise       0.97      1.00      0.98        30\n",
      "\n",
      "    accuracy                           0.97        90\n",
      "   macro avg       0.97      0.97      0.97        90\n",
      "weighted avg       0.97      0.97      0.97        90\n",
      "\n"
     ]
    }
   ],
   "source": [
    "# Classification report\n",
    "print(classification_report(test_gen.classes, y_pred, target_names= classes))"
   ]
  },
  {
   "cell_type": "code",
   "execution_count": 14,
   "id": "6ae29ec4",
   "metadata": {
    "execution": {
     "iopub.execute_input": "2023-11-16T14:15:15.637986Z",
     "iopub.status.busy": "2023-11-16T14:15:15.637265Z",
     "iopub.status.idle": "2023-11-16T14:15:16.705121Z",
     "shell.execute_reply": "2023-11-16T14:15:16.704305Z"
    },
    "papermill": {
     "duration": 1.212962,
     "end_time": "2023-11-16T14:15:16.707627",
     "exception": false,
     "start_time": "2023-11-16T14:15:15.494665",
     "status": "completed"
    },
    "tags": []
   },
   "outputs": [],
   "source": [
    "#Save the model\n",
    "model.save('ًWeather Model.h5')"
   ]
  },
  {
   "cell_type": "code",
   "execution_count": null,
   "id": "4eb654ad",
   "metadata": {
    "papermill": {
     "duration": 0.140114,
     "end_time": "2023-11-16T14:15:16.987286",
     "exception": false,
     "start_time": "2023-11-16T14:15:16.847172",
     "status": "completed"
    },
    "tags": []
   },
   "outputs": [],
   "source": []
  }
 ],
 "metadata": {
  "kaggle": {
   "accelerator": "gpu",
   "dataSources": [
    {
     "datasetId": 799266,
     "sourceId": 1371618,
     "sourceType": "datasetVersion"
    }
   ],
   "dockerImageVersionId": 30588,
   "isGpuEnabled": true,
   "isInternetEnabled": true,
   "language": "python",
   "sourceType": "notebook"
  },
  "kernelspec": {
   "display_name": "Python 3",
   "language": "python",
   "name": "python3"
  },
  "language_info": {
   "codemirror_mode": {
    "name": "ipython",
    "version": 3
   },
   "file_extension": ".py",
   "mimetype": "text/x-python",
   "name": "python",
   "nbconvert_exporter": "python",
   "pygments_lexer": "ipython3",
   "version": "3.10.12"
  },
  "papermill": {
   "default_parameters": {},
   "duration": 447.811288,
   "end_time": "2023-11-16T14:15:20.682923",
   "environment_variables": {},
   "exception": null,
   "input_path": "__notebook__.ipynb",
   "output_path": "__notebook__.ipynb",
   "parameters": {},
   "start_time": "2023-11-16T14:07:52.871635",
   "version": "2.4.0"
  }
 },
 "nbformat": 4,
 "nbformat_minor": 5
}
